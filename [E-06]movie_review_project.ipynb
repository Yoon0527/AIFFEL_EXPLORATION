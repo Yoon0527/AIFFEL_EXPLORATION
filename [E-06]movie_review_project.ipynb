{
 "cells": [
  {
   "cell_type": "markdown",
   "id": "ad803496",
   "metadata": {},
   "source": [
    "# [E-06] 영화리뷰 텍스트 감성분석하기"
   ]
  },
  {
   "cell_type": "markdown",
   "id": "0ad006d7",
   "metadata": {},
   "source": [
    "* 루브릭 평가 기준\n",
    "    * 3가지 이상의 모델이 성공적으로 시도됨\n",
    "    * gensim의 유사 단어 찾기를 활용해 자체 학습한 임베딩과 사전학습 임베딩을 적절히 분석함.\n",
    "    * 네이버 영화리뷰 데이터 감성분석 정확도를 85% 이상 달성함."
   ]
  },
  {
   "cell_type": "markdown",
   "id": "1afd254b",
   "metadata": {},
   "source": [
    "### 데이터 준비와 확인"
   ]
  },
  {
   "cell_type": "code",
   "execution_count": 1,
   "id": "44ec5e40",
   "metadata": {},
   "outputs": [],
   "source": [
    "import pandas as pd\n",
    "\n",
    "train_data = pd.read_table('~/aiffel/sentiment_classification/data/ratings_train.txt')\n",
    "test_data = pd.read_table('~/aiffel/sentiment_classification/data/ratings_test.txt')"
   ]
  },
  {
   "cell_type": "code",
   "execution_count": 2,
   "id": "98f7762d",
   "metadata": {
    "scrolled": true
   },
   "outputs": [
    {
     "name": "stdout",
     "output_type": "stream",
     "text": [
      "150000\n"
     ]
    }
   ],
   "source": [
    "# train data 몇 개인지 확인\n",
    "print(len(train_data))"
   ]
  },
  {
   "cell_type": "code",
   "execution_count": 3,
   "id": "fb7dfac8",
   "metadata": {},
   "outputs": [
    {
     "data": {
      "text/html": [
       "<div>\n",
       "<style scoped>\n",
       "    .dataframe tbody tr th:only-of-type {\n",
       "        vertical-align: middle;\n",
       "    }\n",
       "\n",
       "    .dataframe tbody tr th {\n",
       "        vertical-align: top;\n",
       "    }\n",
       "\n",
       "    .dataframe thead th {\n",
       "        text-align: right;\n",
       "    }\n",
       "</style>\n",
       "<table border=\"1\" class=\"dataframe\">\n",
       "  <thead>\n",
       "    <tr style=\"text-align: right;\">\n",
       "      <th></th>\n",
       "      <th>id</th>\n",
       "      <th>document</th>\n",
       "      <th>label</th>\n",
       "    </tr>\n",
       "  </thead>\n",
       "  <tbody>\n",
       "    <tr>\n",
       "      <th>0</th>\n",
       "      <td>9976970</td>\n",
       "      <td>아 더빙.. 진짜 짜증나네요 목소리</td>\n",
       "      <td>0</td>\n",
       "    </tr>\n",
       "    <tr>\n",
       "      <th>1</th>\n",
       "      <td>3819312</td>\n",
       "      <td>흠...포스터보고 초딩영화줄....오버연기조차 가볍지 않구나</td>\n",
       "      <td>1</td>\n",
       "    </tr>\n",
       "    <tr>\n",
       "      <th>2</th>\n",
       "      <td>10265843</td>\n",
       "      <td>너무재밓었다그래서보는것을추천한다</td>\n",
       "      <td>0</td>\n",
       "    </tr>\n",
       "    <tr>\n",
       "      <th>3</th>\n",
       "      <td>9045019</td>\n",
       "      <td>교도소 이야기구먼 ..솔직히 재미는 없다..평점 조정</td>\n",
       "      <td>0</td>\n",
       "    </tr>\n",
       "    <tr>\n",
       "      <th>4</th>\n",
       "      <td>6483659</td>\n",
       "      <td>사이몬페그의 익살스런 연기가 돋보였던 영화!스파이더맨에서 늙어보이기만 했던 커스틴 ...</td>\n",
       "      <td>1</td>\n",
       "    </tr>\n",
       "  </tbody>\n",
       "</table>\n",
       "</div>"
      ],
      "text/plain": [
       "         id                                           document  label\n",
       "0   9976970                                아 더빙.. 진짜 짜증나네요 목소리      0\n",
       "1   3819312                  흠...포스터보고 초딩영화줄....오버연기조차 가볍지 않구나      1\n",
       "2  10265843                                  너무재밓었다그래서보는것을추천한다      0\n",
       "3   9045019                      교도소 이야기구먼 ..솔직히 재미는 없다..평점 조정      0\n",
       "4   6483659  사이몬페그의 익살스런 연기가 돋보였던 영화!스파이더맨에서 늙어보이기만 했던 커스틴 ...      1"
      ]
     },
     "execution_count": 3,
     "metadata": {},
     "output_type": "execute_result"
    }
   ],
   "source": [
    "# train data 출력\n",
    "train_data.head()"
   ]
  },
  {
   "cell_type": "code",
   "execution_count": 4,
   "id": "64e6726c",
   "metadata": {},
   "outputs": [
    {
     "name": "stdout",
     "output_type": "stream",
     "text": [
      "50000\n"
     ]
    }
   ],
   "source": [
    "# test data 몇 개인지 확인\n",
    "print(len(test_data))"
   ]
  },
  {
   "cell_type": "code",
   "execution_count": 5,
   "id": "aab90b6f",
   "metadata": {},
   "outputs": [
    {
     "data": {
      "text/html": [
       "<div>\n",
       "<style scoped>\n",
       "    .dataframe tbody tr th:only-of-type {\n",
       "        vertical-align: middle;\n",
       "    }\n",
       "\n",
       "    .dataframe tbody tr th {\n",
       "        vertical-align: top;\n",
       "    }\n",
       "\n",
       "    .dataframe thead th {\n",
       "        text-align: right;\n",
       "    }\n",
       "</style>\n",
       "<table border=\"1\" class=\"dataframe\">\n",
       "  <thead>\n",
       "    <tr style=\"text-align: right;\">\n",
       "      <th></th>\n",
       "      <th>id</th>\n",
       "      <th>document</th>\n",
       "      <th>label</th>\n",
       "    </tr>\n",
       "  </thead>\n",
       "  <tbody>\n",
       "    <tr>\n",
       "      <th>0</th>\n",
       "      <td>6270596</td>\n",
       "      <td>굳 ㅋ</td>\n",
       "      <td>1</td>\n",
       "    </tr>\n",
       "    <tr>\n",
       "      <th>1</th>\n",
       "      <td>9274899</td>\n",
       "      <td>GDNTOPCLASSINTHECLUB</td>\n",
       "      <td>0</td>\n",
       "    </tr>\n",
       "    <tr>\n",
       "      <th>2</th>\n",
       "      <td>8544678</td>\n",
       "      <td>뭐야 이 평점들은.... 나쁘진 않지만 10점 짜리는 더더욱 아니잖아</td>\n",
       "      <td>0</td>\n",
       "    </tr>\n",
       "    <tr>\n",
       "      <th>3</th>\n",
       "      <td>6825595</td>\n",
       "      <td>지루하지는 않은데 완전 막장임... 돈주고 보기에는....</td>\n",
       "      <td>0</td>\n",
       "    </tr>\n",
       "    <tr>\n",
       "      <th>4</th>\n",
       "      <td>6723715</td>\n",
       "      <td>3D만 아니었어도 별 다섯 개 줬을텐데.. 왜 3D로 나와서 제 심기를 불편하게 하죠??</td>\n",
       "      <td>0</td>\n",
       "    </tr>\n",
       "  </tbody>\n",
       "</table>\n",
       "</div>"
      ],
      "text/plain": [
       "        id                                           document  label\n",
       "0  6270596                                                굳 ㅋ      1\n",
       "1  9274899                               GDNTOPCLASSINTHECLUB      0\n",
       "2  8544678             뭐야 이 평점들은.... 나쁘진 않지만 10점 짜리는 더더욱 아니잖아      0\n",
       "3  6825595                   지루하지는 않은데 완전 막장임... 돈주고 보기에는....      0\n",
       "4  6723715  3D만 아니었어도 별 다섯 개 줬을텐데.. 왜 3D로 나와서 제 심기를 불편하게 하죠??      0"
      ]
     },
     "execution_count": 5,
     "metadata": {},
     "output_type": "execute_result"
    }
   ],
   "source": [
    "# test data 출력\n",
    "test_data.head()"
   ]
  },
  {
   "cell_type": "markdown",
   "id": "4f4251ba",
   "metadata": {},
   "source": [
    "### 데이터로더 구성"
   ]
  },
  {
   "cell_type": "code",
   "execution_count": 6,
   "id": "6b414446",
   "metadata": {},
   "outputs": [],
   "source": [
    "from konlpy.tag import Mecab\n",
    "import numpy as np\n",
    "from collections import Counter\n",
    "\n",
    "tokenizer = Mecab()\n",
    "stopwords = ['의','가','이','은','들','는','좀','잘','걍','과','도','를','으로','자','에','와','한','하다']\n",
    "\n",
    "def load_data(train_data, test_data, num_words=10000):\n",
    "    train_data.drop_duplicates(subset=['document'], inplace=True)\n",
    "    train_data = train_data.dropna(how = 'any') \n",
    "    test_data.drop_duplicates(subset=['document'], inplace=True)\n",
    "    test_data = test_data.dropna(how = 'any') \n",
    "    \n",
    "    X_train = []\n",
    "    for sentence in train_data['document']:\n",
    "        temp_X = tokenizer.morphs(sentence) # 토큰화\n",
    "        temp_X = [word for word in temp_X if not word in stopwords] # 불용어 제거\n",
    "        X_train.append(temp_X)\n",
    "\n",
    "    X_test = []\n",
    "    for sentence in test_data['document']:\n",
    "        temp_X = tokenizer.morphs(sentence) # 토큰화\n",
    "        temp_X = [word for word in temp_X if not word in stopwords] # 불용어 제거\n",
    "        X_test.append(temp_X)\n",
    "    \n",
    "    words = np.concatenate(X_train).tolist()\n",
    "    counter = Counter(words)\n",
    "    counter = counter.most_common(10000-4)\n",
    "    vocab = ['', '', '', ''] + [key for key, _ in counter]\n",
    "    word_to_index = {word:index for index, word in enumerate(vocab)}\n",
    "        \n",
    "    def wordlist_to_indexlist(wordlist):\n",
    "        return [word_to_index[word] if word in word_to_index else word_to_index[''] for word in wordlist]\n",
    "        \n",
    "    X_train = list(map(wordlist_to_indexlist, X_train))\n",
    "    X_test = list(map(wordlist_to_indexlist, X_test))\n",
    "        \n",
    "    return X_train, np.array(list(train_data['label'])), X_test, np.array(list(test_data['label'])), word_to_index\n",
    "    \n",
    "X_train, y_train, X_test, y_test, word_to_index = load_data(train_data, test_data) "
   ]
  },
  {
   "cell_type": "code",
   "execution_count": 7,
   "id": "eed3b3cc",
   "metadata": {},
   "outputs": [],
   "source": [
    "index_to_word = {index:word for word, index in word_to_index.items()}"
   ]
  },
  {
   "cell_type": "code",
   "execution_count": 8,
   "id": "d9c4d16b",
   "metadata": {},
   "outputs": [],
   "source": [
    "# 문장 1개를 활용할 딕셔너리와 함께 주면, 단어 인덱스 리스트 벡터로 변환해 주는 함수입니다. \n",
    "# 단, 모든 문장은 <BOS>로 시작하는 것으로 합니다. \n",
    "def get_encoded_sentence(sentence, word_to_index):\n",
    "    return [word_to_index['<BOS>']]+[word_to_index[word] if word in word_to_index else word_to_index['<UNK>'] for word in sentence.split()]\n",
    "\n",
    "# 여러 개의 문장 리스트를 한꺼번에 단어 인덱스 리스트 벡터로 encode해 주는 함수입니다. \n",
    "def get_encoded_sentences(sentences, word_to_index):\n",
    "    return [get_encoded_sentence(sentence, word_to_index) for sentence in sentences]\n",
    "\n",
    "# 숫자 벡터로 encode된 문장을 원래대로 decode하는 함수입니다. \n",
    "def get_decoded_sentence(encoded_sentence, index_to_word):\n",
    "    return ' '.join(index_to_word[index] if index in index_to_word else '<UNK>' for index in encoded_sentence[1:])  #[1:]를 통해 <BOS>를 제외\n",
    "\n",
    "# 여러 개의 숫자 벡터로 encode된 문장을 한꺼번에 원래대로 decode하는 함수입니다. \n",
    "def get_decoded_sentences(encoded_sentences, index_to_word):\n",
    "    return [get_decoded_sentence(encoded_sentence, index_to_word) for encoded_sentence in encoded_sentences]"
   ]
  },
  {
   "cell_type": "code",
   "execution_count": 9,
   "id": "934b1cd5",
   "metadata": {},
   "outputs": [
    {
     "name": "stdout",
     "output_type": "stream",
     "text": [
      "훈련 샘플 개수: 146182, 테스트 샘플 개수: 49157\n"
     ]
    }
   ],
   "source": [
    "print('훈련 샘플 개수: {}, 테스트 샘플 개수: {}'.format(len(X_train), len(X_test)))"
   ]
  },
  {
   "cell_type": "markdown",
   "id": "fb30c3e2",
   "metadata": {},
   "source": [
    "### 모델 구성을 위한 데이터 분석 및 가공"
   ]
  },
  {
   "cell_type": "code",
   "execution_count": 10,
   "id": "0d318e56",
   "metadata": {},
   "outputs": [],
   "source": [
    "import numpy as np\n",
    "import tensorflow as tf\n",
    "import matplotlib.pyplot as plt\n",
    "from konlpy.tag import Okt\n",
    "from collections import Counter"
   ]
  },
  {
   "cell_type": "code",
   "execution_count": 11,
   "id": "313e2f0c",
   "metadata": {},
   "outputs": [
    {
     "name": "stdout",
     "output_type": "stream",
     "text": [
      "더 빙 . . 진짜 짜증 나 네요 목소리\n",
      "라벨:  0\n"
     ]
    }
   ],
   "source": [
    "# decoding\n",
    "print(get_decoded_sentence(X_train[0], index_to_word))\n",
    "print('라벨: ', y_train[0])  # 1번째 리뷰데이터의 라벨"
   ]
  },
  {
   "cell_type": "code",
   "execution_count": 12,
   "id": "f3af275f",
   "metadata": {},
   "outputs": [],
   "source": [
    "# 텍스트데이터 문장길이의 리스트를 생성한 후\n",
    "total_data_text = list(X_train) + list(X_test)"
   ]
  },
  {
   "cell_type": "code",
   "execution_count": 13,
   "id": "e917b4dd",
   "metadata": {},
   "outputs": [],
   "source": [
    "# 문장길이의 평균값, 최대값, 표준편차를 계산\n",
    "num_tokens = [len(tokens) for tokens in total_data_text]\n",
    "num_tokens = np.array(num_tokens)"
   ]
  },
  {
   "cell_type": "code",
   "execution_count": 14,
   "id": "3e5b6487",
   "metadata": {},
   "outputs": [
    {
     "name": "stdout",
     "output_type": "stream",
     "text": [
      "문장길이 평균 :  15.96940191154864\n",
      "문장길이 최대 :  116\n",
      "문장길이 표준편차 :  12.843571191092\n"
     ]
    },
    {
     "data": {
      "text/plain": [
       "<Figure size 432x288 with 0 Axes>"
      ]
     },
     "metadata": {},
     "output_type": "display_data"
    }
   ],
   "source": [
    "print('문장길이 평균 : ', np.mean(num_tokens))\n",
    "print('문장길이 최대 : ', np.max(num_tokens))\n",
    "print('문장길이 표준편차 : ', np.std(num_tokens))\n",
    "plt.clf()"
   ]
  },
  {
   "cell_type": "code",
   "execution_count": 15,
   "id": "b7d10176",
   "metadata": {},
   "outputs": [
    {
     "data": {
      "image/png": "[encoded data removed]",
      "text/plain": [
       "<Figure size 432x288 with 1 Axes>"
      ]
     },
     "metadata": {
      "needs_background": "light"
     },
     "output_type": "display_data"
    }
   ],
   "source": [
    "plt.hist([len(s) for s in total_data_text], bins=50)\n",
    "plt.xlabel('length of samples')\n",
    "plt.ylabel('number of samples')\n",
    "plt.show()"
   ]
  },
  {
   "cell_type": "code",
   "execution_count": 16,
   "id": "79466710",
   "metadata": {},
   "outputs": [
    {
     "name": "stdout",
     "output_type": "stream",
     "text": [
      "pad_sequences maxlen :  41\n",
      "전체 문장의 0.9342988343341575%가 maxlen 설정값 이내에 포함됩니다. \n"
     ]
    }
   ],
   "source": [
    "# 예를들어, 최대 길이를 (평균 + 2*표준편차)로 가정\n",
    "max_tokens = np.mean(num_tokens) + 2 * np.std(num_tokens)\n",
    "maxlen = int(max_tokens)\n",
    "print('pad_sequences maxlen : ', maxlen)\n",
    "print('전체 문장의 {}%가 maxlen 설정값 이내에 포함됩니다. '.format(np.sum(num_tokens < max_tokens) / len(num_tokens)))"
   ]
  },
  {
   "cell_type": "code",
   "execution_count": 17,
   "id": "d1424955",
   "metadata": {},
   "outputs": [],
   "source": [
    "#실제 인코딩 인덱스는 제공된 word_to_index에서 index 기준으로 3씩 뒤로 밀려 있습니다.  \n",
    "word_to_index = {k:(v+3) for k,v in word_to_index.items()}\n",
    "\n",
    "# 처음 몇 개 인덱스는 사전에 정의되어 있습니다\n",
    "word_to_index[\"<PAD>\"] = 0\n",
    "word_to_index[\"<BOS>\"] = 1\n",
    "word_to_index[\"<UNK>\"] = 2  # unknown\n",
    "word_to_index[\"<UNUSED>\"] = 3\n",
    "\n",
    "index_to_word = {index:word for word, index in word_to_index.items()}"
   ]
  },
  {
   "cell_type": "code",
   "execution_count": 18,
   "id": "83a2ac4b",
   "metadata": {},
   "outputs": [
    {
     "name": "stdout",
     "output_type": "stream",
     "text": [
      "(146182, 41)\n"
     ]
    }
   ],
   "source": [
    "# padding\n",
    "x_train = tf.keras.preprocessing.sequence.pad_sequences(X_train,\n",
    "                                                        value=word_to_index[\"<PAD>\"],\n",
    "                                                        padding='pre',\n",
    "                                                        maxlen=maxlen)\n",
    "\n",
    "x_test = tf.keras.preprocessing.sequence.pad_sequences(X_test,\n",
    "                                                       value=word_to_index[\"<PAD>\"],\n",
    "                                                       padding='pre',\n",
    "                                                       maxlen=maxlen)\n",
    "\n",
    "print(x_train.shape)"
   ]
  },
  {
   "cell_type": "code",
   "execution_count": 19,
   "id": "8dc8e0e0",
   "metadata": {},
   "outputs": [
    {
     "name": "stdout",
     "output_type": "stream",
     "text": [
      "(106182, 41)\n",
      "(106182,)\n"
     ]
    }
   ],
   "source": [
    "# validation set 분리\n",
    "x_val = x_train[:40000]   \n",
    "y_val = y_train[:40000]\n",
    "\n",
    "\n",
    "partial_x_train = x_train[40000:]  \n",
    "partial_y_train = y_train[40000:]\n",
    "\n",
    "print(partial_x_train.shape)\n",
    "print(partial_y_train.shape)"
   ]
  },
  {
   "cell_type": "markdown",
   "id": "fcc69b97",
   "metadata": {},
   "source": [
    "### RNN 모델로 훈련해보기"
   ]
  },
  {
   "cell_type": "code",
   "execution_count": 20,
   "id": "4e4a128a",
   "metadata": {},
   "outputs": [
    {
     "name": "stdout",
     "output_type": "stream",
     "text": [
      "Model: \"sequential\"\n",
      "_________________________________________________________________\n",
      "Layer (type)                 Output Shape              Param #   \n",
      "=================================================================\n",
      "embedding (Embedding)        (None, None, 200)         2000000   \n",
      "_________________________________________________________________\n",
      "gru (GRU)                    (None, 128)               126720    \n",
      "_________________________________________________________________\n",
      "dense (Dense)                (None, 8)                 1032      \n",
      "_________________________________________________________________\n",
      "dense_1 (Dense)              (None, 1)                 9         \n",
      "=================================================================\n",
      "Total params: 2,127,761\n",
      "Trainable params: 2,127,761\n",
      "Non-trainable params: 0\n",
      "_________________________________________________________________\n"
     ]
    }
   ],
   "source": [
    "from tensorflow import keras\n",
    "\n",
    "vocab_size = 10000    # 어휘 사전의 크기입니다(10,000개의 단어)\n",
    "word_vector_dim = 200  # 워드 벡터의 차원수 (변경가능한 하이퍼파라미터)\n",
    "\n",
    "# 모델 설계\n",
    "rnn = keras.Sequential()\n",
    "rnn.add(keras.layers.Embedding(vocab_size, word_vector_dim, input_shape=(None,)))\n",
    "# model.add(keras.layers.LSTM(8))   # 가장 널리 쓰이는 RNN인 LSTM 레이어를 사용\n",
    "rnn.add(keras.layers.GRU(128))  # LSTM 모델을 발전 시킨 모델이라고 한다.\n",
    "rnn.add(keras.layers.Dense(8, activation='relu'))\n",
    "rnn.add(keras.layers.Dense(1, activation='sigmoid')) \n",
    "\n",
    "rnn.summary()"
   ]
  },
  {
   "cell_type": "code",
   "execution_count": 21,
   "id": "1f13d1ed",
   "metadata": {},
   "outputs": [
    {
     "name": "stdout",
     "output_type": "stream",
     "text": [
      "Epoch 1/10\n",
      "208/208 [==============================] - 6s 14ms/step - loss: 0.4160 - accuracy: 0.8091 - val_loss: 0.3517 - val_accuracy: 0.8444\n",
      "Epoch 2/10\n",
      "208/208 [==============================] - 3s 12ms/step - loss: 0.3152 - accuracy: 0.8646 - val_loss: 0.3315 - val_accuracy: 0.8563\n",
      "Epoch 3/10\n",
      "208/208 [==============================] - 3s 12ms/step - loss: 0.2751 - accuracy: 0.8836 - val_loss: 0.3290 - val_accuracy: 0.8589\n",
      "Epoch 4/10\n",
      "208/208 [==============================] - 3s 12ms/step - loss: 0.2433 - accuracy: 0.8996 - val_loss: 0.3417 - val_accuracy: 0.8584\n",
      "Epoch 5/10\n",
      "208/208 [==============================] - 3s 12ms/step - loss: 0.2176 - accuracy: 0.9112 - val_loss: 0.3573 - val_accuracy: 0.8556\n",
      "Epoch 6/10\n",
      "208/208 [==============================] - 3s 12ms/step - loss: 0.1959 - accuracy: 0.9215 - val_loss: 0.3922 - val_accuracy: 0.8540\n",
      "Epoch 7/10\n",
      "208/208 [==============================] - 3s 12ms/step - loss: 0.1766 - accuracy: 0.9298 - val_loss: 0.4091 - val_accuracy: 0.8477\n",
      "Epoch 8/10\n",
      "208/208 [==============================] - 3s 12ms/step - loss: 0.1571 - accuracy: 0.9382 - val_loss: 0.4453 - val_accuracy: 0.8486\n",
      "Epoch 9/10\n",
      "208/208 [==============================] - 3s 12ms/step - loss: 0.1390 - accuracy: 0.9467 - val_loss: 0.4957 - val_accuracy: 0.8480\n",
      "Epoch 10/10\n",
      "208/208 [==============================] - 3s 12ms/step - loss: 0.1239 - accuracy: 0.9521 - val_loss: 0.5365 - val_accuracy: 0.8408\n"
     ]
    }
   ],
   "source": [
    "rnn.compile(optimizer='adam',\n",
    "              loss='binary_crossentropy',\n",
    "              metrics=['accuracy'])\n",
    "              \n",
    "epochs=10  # 몇 epoch를 훈련하면 좋을지 결과를 보면서 바꾸어 봅시다. \n",
    "\n",
    "history = rnn.fit(partial_x_train,\n",
    "                    partial_y_train,\n",
    "                    epochs=epochs,\n",
    "                    batch_size=512,\n",
    "                    validation_data=(x_val, y_val),\n",
    "                    verbose=1)"
   ]
  },
  {
   "cell_type": "code",
   "execution_count": 22,
   "id": "b0475607",
   "metadata": {},
   "outputs": [
    {
     "name": "stdout",
     "output_type": "stream",
     "text": [
      "1537/1537 - 3s - loss: 0.5361 - accuracy: 0.8390\n",
      "[0.5361088514328003, 0.83904629945755]\n"
     ]
    }
   ],
   "source": [
    "results_rnn = rnn.evaluate(x_test,  y_test, verbose=2)\n",
    "\n",
    "print(results_rnn)"
   ]
  },
  {
   "cell_type": "code",
   "execution_count": 23,
   "id": "92d9c77a",
   "metadata": {},
   "outputs": [
    {
     "name": "stdout",
     "output_type": "stream",
     "text": [
      "dict_keys(['loss', 'accuracy', 'val_loss', 'val_accuracy'])\n"
     ]
    }
   ],
   "source": [
    "history_dict_rnn = history.history\n",
    "print(history_dict_rnn.keys())\n"
   ]
  },
  {
   "cell_type": "code",
   "execution_count": 24,
   "id": "4234d265",
   "metadata": {},
   "outputs": [
    {
     "data": {
      "image/png": "[encoded data removed]",
      "text/plain": [
       "<Figure size 432x288 with 1 Axes>"
      ]
     },
     "metadata": {
      "needs_background": "light"
     },
     "output_type": "display_data"
    }
   ],
   "source": [
    "import matplotlib.pyplot as plt\n",
    "\n",
    "acc = history_dict_rnn['accuracy']\n",
    "val_acc = history_dict_rnn['val_accuracy']\n",
    "loss = history_dict_rnn['loss']\n",
    "val_loss = history_dict_rnn['val_loss']\n",
    "\n",
    "epochs = range(1, len(acc) + 1)\n",
    "\n",
    "# \"bo\"는 \"파란색 점\"입니다\n",
    "plt.plot(epochs, loss, 'bo', label='Training loss')\n",
    "# b는 \"파란 실선\"입니다\n",
    "plt.plot(epochs, val_loss, 'b', label='Validation loss')\n",
    "plt.title('Training and validation loss')\n",
    "plt.xlabel('Epochs')\n",
    "plt.ylabel('Loss')\n",
    "plt.legend()\n",
    "\n",
    "plt.show()"
   ]
  },
  {
   "cell_type": "code",
   "execution_count": 25,
   "id": "54dd2477",
   "metadata": {},
   "outputs": [
    {
     "data": {
      "image/png": "[encoded data removed]",
      "text/plain": [
       "<Figure size 432x288 with 1 Axes>"
      ]
     },
     "metadata": {
      "needs_background": "light"
     },
     "output_type": "display_data"
    }
   ],
   "source": [
    "plt.clf()   # 그림을 초기화합니다\n",
    "\n",
    "plt.plot(epochs, acc, 'bo', label='Training acc')\n",
    "plt.plot(epochs, val_acc, 'b', label='Validation acc')\n",
    "plt.title('Training and validation accuracy')\n",
    "plt.xlabel('Epochs')\n",
    "plt.ylabel('Accuracy')\n",
    "plt.legend()\n",
    "\n",
    "plt.show()"
   ]
  },
  {
   "cell_type": "markdown",
   "id": "a605fd69",
   "metadata": {},
   "source": [
    "### CNN 모델"
   ]
  },
  {
   "cell_type": "code",
   "execution_count": 26,
   "id": "4d9cb417",
   "metadata": {
    "scrolled": true
   },
   "outputs": [
    {
     "name": "stdout",
     "output_type": "stream",
     "text": [
      "Model: \"sequential_1\"\n",
      "_________________________________________________________________\n",
      "Layer (type)                 Output Shape              Param #   \n",
      "=================================================================\n",
      "embedding_1 (Embedding)      (None, None, 200)         2000000   \n",
      "_________________________________________________________________\n",
      "conv1d (Conv1D)              (None, None, 32)          44832     \n",
      "_________________________________________________________________\n",
      "max_pooling1d (MaxPooling1D) (None, None, 32)          0         \n",
      "_________________________________________________________________\n",
      "conv1d_1 (Conv1D)            (None, None, 32)          7200      \n",
      "_________________________________________________________________\n",
      "global_max_pooling1d (Global (None, 32)                0         \n",
      "_________________________________________________________________\n",
      "dense_2 (Dense)              (None, 16)                528       \n",
      "_________________________________________________________________\n",
      "dense_3 (Dense)              (None, 1)                 17        \n",
      "=================================================================\n",
      "Total params: 2,052,577\n",
      "Trainable params: 2,052,577\n",
      "Non-trainable params: 0\n",
      "_________________________________________________________________\n"
     ]
    }
   ],
   "source": [
    "vocab_size = 10000  # 어휘 사전의 크기(10,000개의 단어)\n",
    "word_vector_dim = 200   # 단어 하나를 표현하는 임베딩 벡터의 차원 \n",
    "\n",
    "cnn = keras.Sequential()\n",
    "cnn.add(keras.layers.Embedding(vocab_size, word_vector_dim, input_shape=(None,)))\n",
    "cnn.add(keras.layers.Conv1D(32, 7, activation='relu'))\n",
    "cnn.add(keras.layers.MaxPooling1D(5))\n",
    "cnn.add(keras.layers.Conv1D(32, 7, activation='relu'))\n",
    "cnn.add(keras.layers.GlobalMaxPooling1D())\n",
    "cnn.add(keras.layers.Dense(16, activation='relu'))\n",
    "cnn.add(keras.layers.Dense(1, activation='sigmoid'))  # 최종 출력은 긍정/부정을 나타내는 1dim 입니다.\n",
    "\n",
    "cnn.summary()"
   ]
  },
  {
   "cell_type": "code",
   "execution_count": 27,
   "id": "dc3289ff",
   "metadata": {},
   "outputs": [
    {
     "name": "stdout",
     "output_type": "stream",
     "text": [
      "Epoch 1/10\n",
      "415/415 [==============================] - 5s 7ms/step - loss: 0.4092 - accuracy: 0.8069 - val_loss: 0.3327 - val_accuracy: 0.8546\n",
      "Epoch 2/10\n",
      "415/415 [==============================] - 2s 6ms/step - loss: 0.2743 - accuracy: 0.8869 - val_loss: 0.3240 - val_accuracy: 0.8607\n",
      "Epoch 3/10\n",
      "415/415 [==============================] - 3s 6ms/step - loss: 0.1805 - accuracy: 0.9317 - val_loss: 0.3710 - val_accuracy: 0.8512\n",
      "Epoch 4/10\n",
      "415/415 [==============================] - 2s 6ms/step - loss: 0.0984 - accuracy: 0.9659 - val_loss: 0.4801 - val_accuracy: 0.8469\n",
      "Epoch 5/10\n",
      "415/415 [==============================] - 2s 6ms/step - loss: 0.0579 - accuracy: 0.9800 - val_loss: 0.5776 - val_accuracy: 0.8421\n",
      "Epoch 6/10\n",
      "415/415 [==============================] - 2s 6ms/step - loss: 0.0394 - accuracy: 0.9871 - val_loss: 0.7050 - val_accuracy: 0.8434\n",
      "Epoch 7/10\n",
      "415/415 [==============================] - 3s 6ms/step - loss: 0.0316 - accuracy: 0.9893 - val_loss: 0.7633 - val_accuracy: 0.8373\n",
      "Epoch 8/10\n",
      "415/415 [==============================] - 3s 6ms/step - loss: 0.0332 - accuracy: 0.9881 - val_loss: 0.7710 - val_accuracy: 0.8411\n",
      "Epoch 9/10\n",
      "415/415 [==============================] - 3s 6ms/step - loss: 0.0292 - accuracy: 0.9897 - val_loss: 0.8377 - val_accuracy: 0.8323\n",
      "Epoch 10/10\n",
      "415/415 [==============================] - 2s 6ms/step - loss: 0.0239 - accuracy: 0.9915 - val_loss: 0.8840 - val_accuracy: 0.8352\n"
     ]
    }
   ],
   "source": [
    "# 학습 환경 설정\n",
    "cnn.compile(optimizer='adam',\n",
    "              loss='binary_crossentropy',\n",
    "              metrics=['accuracy'])\n",
    "              \n",
    "epochs=10  # 몇 epoch를 훈련하면 좋을지 결과를 보면서 바꾸어 봅시다. \n",
    "\n",
    "# 모델 학습\n",
    "history_cnn = cnn.fit(partial_x_train,\n",
    "                    partial_y_train,\n",
    "                    epochs=epochs,\n",
    "                    batch_size=256,\n",
    "                    validation_data=(x_val, y_val),\n",
    "                    verbose=1)"
   ]
  },
  {
   "cell_type": "code",
   "execution_count": 28,
   "id": "fd3e0fa3",
   "metadata": {},
   "outputs": [
    {
     "name": "stdout",
     "output_type": "stream",
     "text": [
      "1537/1537 - 3s - loss: 0.9001 - accuracy: 0.8350\n",
      "[0.9001158475875854, 0.8350387811660767]\n"
     ]
    }
   ],
   "source": [
    "results_cnn = cnn.evaluate(x_test,  y_test, verbose=2)\n",
    "\n",
    "print(results_cnn)"
   ]
  },
  {
   "cell_type": "code",
   "execution_count": 29,
   "id": "a47583e9",
   "metadata": {},
   "outputs": [
    {
     "name": "stdout",
     "output_type": "stream",
     "text": [
      "dict_keys(['loss', 'accuracy', 'val_loss', 'val_accuracy'])\n"
     ]
    }
   ],
   "source": [
    "history_dict_cnn = history.history\n",
    "print(history_dict_cnn.keys())"
   ]
  },
  {
   "cell_type": "code",
   "execution_count": 30,
   "id": "b7d36308",
   "metadata": {},
   "outputs": [
    {
     "data": {
      "image/png": "[encoded data removed]",
      "text/plain": [
       "<Figure size 432x288 with 1 Axes>"
      ]
     },
     "metadata": {
      "needs_background": "light"
     },
     "output_type": "display_data"
    }
   ],
   "source": [
    "import matplotlib.pyplot as plt\n",
    "\n",
    "acc = history_dict_cnn['accuracy']\n",
    "val_acc = history_dict_cnn['val_accuracy']\n",
    "loss = history_dict_cnn['loss']\n",
    "val_loss = history_dict_cnn['val_loss']\n",
    "\n",
    "epochs = range(1, len(acc) + 1)\n",
    "\n",
    "# \"bo\"는 \"파란색 점\"입니다\n",
    "plt.plot(epochs, loss, 'bo', label='Training loss')\n",
    "# b는 \"파란 실선\"입니다\n",
    "plt.plot(epochs, val_loss, 'b', label='Validation loss')\n",
    "plt.title('Training and validation loss')\n",
    "plt.xlabel('Epochs')\n",
    "plt.ylabel('Loss')\n",
    "plt.legend()\n",
    "\n",
    "plt.show()"
   ]
  },
  {
   "cell_type": "code",
   "execution_count": 31,
   "id": "dd36c0e6",
   "metadata": {},
   "outputs": [
    {
     "data": {
      "image/png": "[encoded data removed]",
      "text/plain": [
       "<Figure size 432x288 with 1 Axes>"
      ]
     },
     "metadata": {
      "needs_background": "light"
     },
     "output_type": "display_data"
    }
   ],
   "source": [
    "plt.clf()   # 그림을 초기화합니다\n",
    "\n",
    "plt.plot(epochs, acc, 'bo', label='Training acc')\n",
    "plt.plot(epochs, val_acc, 'b', label='Validation acc')\n",
    "plt.title('Training and validation accuracy')\n",
    "plt.xlabel('Epochs')\n",
    "plt.ylabel('Accuracy')\n",
    "plt.legend()\n",
    "\n",
    "plt.show()"
   ]
  },
  {
   "cell_type": "markdown",
   "id": "60ff1727",
   "metadata": {},
   "source": [
    "### GlobalMaxPooling1D 레이어 하나만으로 학습해보기"
   ]
  },
  {
   "cell_type": "code",
   "execution_count": 32,
   "id": "e22f3fd7",
   "metadata": {},
   "outputs": [
    {
     "name": "stdout",
     "output_type": "stream",
     "text": [
      "Model: \"sequential_2\"\n",
      "_________________________________________________________________\n",
      "Layer (type)                 Output Shape              Param #   \n",
      "=================================================================\n",
      "embedding_2 (Embedding)      (None, None, 200)         2000000   \n",
      "_________________________________________________________________\n",
      "global_max_pooling1d_1 (Glob (None, 200)               0         \n",
      "_________________________________________________________________\n",
      "dense_4 (Dense)              (None, 8)                 1608      \n",
      "_________________________________________________________________\n",
      "dense_5 (Dense)              (None, 1)                 9         \n",
      "=================================================================\n",
      "Total params: 2,001,617\n",
      "Trainable params: 2,001,617\n",
      "Non-trainable params: 0\n",
      "_________________________________________________________________\n"
     ]
    }
   ],
   "source": [
    "gmp = keras.Sequential()\n",
    "gmp.add(keras.layers.Embedding(vocab_size, word_vector_dim, input_shape=(None,)))\n",
    "gmp.add(keras.layers.GlobalMaxPooling1D())\n",
    "gmp.add(keras.layers.Dense(8, activation='relu'))\n",
    "gmp.add(keras.layers.Dense(1, activation='sigmoid'))\n",
    "\n",
    "gmp.summary()"
   ]
  },
  {
   "cell_type": "code",
   "execution_count": 33,
   "id": "36fd21bb",
   "metadata": {},
   "outputs": [
    {
     "name": "stdout",
     "output_type": "stream",
     "text": [
      "Epoch 1/10\n",
      "208/208 [==============================] - 2s 6ms/step - loss: 0.4790 - accuracy: 0.8011 - val_loss: 0.3532 - val_accuracy: 0.8454\n",
      "Epoch 2/10\n",
      "208/208 [==============================] - 1s 5ms/step - loss: 0.3175 - accuracy: 0.8652 - val_loss: 0.3370 - val_accuracy: 0.8532\n",
      "Epoch 3/10\n",
      "208/208 [==============================] - 1s 5ms/step - loss: 0.2686 - accuracy: 0.8901 - val_loss: 0.3424 - val_accuracy: 0.8541\n",
      "Epoch 4/10\n",
      "208/208 [==============================] - 1s 5ms/step - loss: 0.2277 - accuracy: 0.9109 - val_loss: 0.3554 - val_accuracy: 0.8536\n",
      "Epoch 5/10\n",
      "208/208 [==============================] - 1s 5ms/step - loss: 0.1878 - accuracy: 0.9308 - val_loss: 0.3779 - val_accuracy: 0.8510\n",
      "Epoch 6/10\n",
      "208/208 [==============================] - 1s 5ms/step - loss: 0.1480 - accuracy: 0.9490 - val_loss: 0.4083 - val_accuracy: 0.8476\n",
      "Epoch 7/10\n",
      "208/208 [==============================] - 1s 5ms/step - loss: 0.1113 - accuracy: 0.9651 - val_loss: 0.4432 - val_accuracy: 0.8461\n",
      "Epoch 8/10\n",
      "208/208 [==============================] - 1s 5ms/step - loss: 0.0800 - accuracy: 0.9778 - val_loss: 0.4790 - val_accuracy: 0.8441\n",
      "Epoch 9/10\n",
      "208/208 [==============================] - 1s 5ms/step - loss: 0.0564 - accuracy: 0.9863 - val_loss: 0.5158 - val_accuracy: 0.8415\n",
      "Epoch 10/10\n",
      "208/208 [==============================] - 1s 5ms/step - loss: 0.0397 - accuracy: 0.9909 - val_loss: 0.5542 - val_accuracy: 0.8429\n"
     ]
    }
   ],
   "source": [
    "gmp.compile(optimizer='adam',\n",
    "              loss='binary_crossentropy',\n",
    "              metrics=['accuracy'])\n",
    "              \n",
    "epochs=10  # 몇 epoch를 훈련하면 좋을지 결과를 보면서 바꾸어 봅시다. \n",
    "\n",
    "history_gmp = gmp.fit(partial_x_train,\n",
    "                    partial_y_train,\n",
    "                    epochs=epochs,\n",
    "                    batch_size=512,\n",
    "                    validation_data=(x_val, y_val),\n",
    "                    verbose=1)"
   ]
  },
  {
   "cell_type": "code",
   "execution_count": 34,
   "id": "efbba139",
   "metadata": {},
   "outputs": [
    {
     "name": "stdout",
     "output_type": "stream",
     "text": [
      "1537/1537 - 2s - loss: 0.5640 - accuracy: 0.8363\n",
      "[0.564029335975647, 0.8362593054771423]\n"
     ]
    }
   ],
   "source": [
    "results_gmp = gmp.evaluate(x_test,  y_test, verbose=2)\n",
    "\n",
    "print(results_gmp)"
   ]
  },
  {
   "cell_type": "code",
   "execution_count": 35,
   "id": "0aa1dd76",
   "metadata": {},
   "outputs": [
    {
     "name": "stdout",
     "output_type": "stream",
     "text": [
      "dict_keys(['loss', 'accuracy', 'val_loss', 'val_accuracy'])\n"
     ]
    }
   ],
   "source": [
    "history_dict_gmp = history.history\n",
    "print(history_dict_gmp.keys())"
   ]
  },
  {
   "cell_type": "code",
   "execution_count": 36,
   "id": "4f69a1e5",
   "metadata": {},
   "outputs": [
    {
     "data": {
      "image/png": "[encoded data removed]",
      "text/plain": [
       "<Figure size 432x288 with 1 Axes>"
      ]
     },
     "metadata": {
      "needs_background": "light"
     },
     "output_type": "display_data"
    }
   ],
   "source": [
    "import matplotlib.pyplot as plt\n",
    "\n",
    "acc = history_dict_gmp['accuracy']\n",
    "val_acc = history_dict_gmp['val_accuracy']\n",
    "loss = history_dict_gmp['loss']\n",
    "val_loss = history_dict_gmp['val_loss']\n",
    "\n",
    "epochs = range(1, len(acc) + 1)\n",
    "\n",
    "# \"bo\"는 \"파란색 점\"입니다\n",
    "plt.plot(epochs, loss, 'bo', label='Training loss')\n",
    "# b는 \"파란 실선\"입니다\n",
    "plt.plot(epochs, val_loss, 'b', label='Validation loss')\n",
    "plt.title('Training and validation loss')\n",
    "plt.xlabel('Epochs')\n",
    "plt.ylabel('Loss')\n",
    "plt.legend()\n",
    "\n",
    "plt.show()"
   ]
  },
  {
   "cell_type": "code",
   "execution_count": 37,
   "id": "f0f8b5eb",
   "metadata": {},
   "outputs": [
    {
     "data": {
      "image/png": "[encoded data removed]",
      "text/plain": [
       "<Figure size 432x288 with 1 Axes>"
      ]
     },
     "metadata": {
      "needs_background": "light"
     },
     "output_type": "display_data"
    }
   ],
   "source": [
    "plt.clf()   # 그림을 초기화합니다\n",
    "\n",
    "plt.plot(epochs, acc, 'bo', label='Training acc')\n",
    "plt.plot(epochs, val_acc, 'b', label='Validation acc')\n",
    "plt.title('Training and validation accuracy')\n",
    "plt.xlabel('Epochs')\n",
    "plt.ylabel('Accuracy')\n",
    "plt.legend()\n",
    "\n",
    "plt.show()"
   ]
  },
  {
   "cell_type": "code",
   "execution_count": 38,
   "id": "cb8589a4",
   "metadata": {},
   "outputs": [
    {
     "name": "stdout",
     "output_type": "stream",
     "text": [
      "(10000, 200)\n"
     ]
    }
   ],
   "source": [
    "embedding_layer = rnn.layers[0]            # GRU로 학습된 모델을 대상으로 분석 \n",
    "weights = embedding_layer.get_weights()[0]\n",
    "print(weights.shape)   # shape: (vocab_size, embedding_dim)"
   ]
  },
  {
   "cell_type": "code",
   "execution_count": 40,
   "id": "fb1bb2b7",
   "metadata": {},
   "outputs": [],
   "source": [
    "import os\n",
    "from gensim import models     # gensim : 워드벡터를 다루는데 유용한 패키지\n",
    "\n",
    "# 학습한 Embedding 파라미터를 파일에 써서 저장합니다. \n",
    "word2vec_file_path = os.getenv('HOME') + '/aiffel/sentiment_classification/word2vec.txt'\n",
    "f = open(word2vec_file_path, 'w')\n",
    "f.write('{} {}\\n'.format(vocab_size-6, word_vector_dim))  # 몇개의 벡터를 얼마 사이즈로 기재할지 타이틀을 씁니다.\n",
    "\n",
    "# 단어 개수(에서 특수문자 4개는 제외하고)만큼의 워드 벡터를 파일에 기록합니다. \n",
    "vectors = rnn.get_weights()[0]\n",
    "for i in range(6, vocab_size):\n",
    "    f.write('{} {}\\n'.format(index_to_word[i], ' '.join(map(str, list(vectors[i, :])))))\n",
    "f.close()"
   ]
  },
  {
   "cell_type": "code",
   "execution_count": 41,
   "id": "751c3124",
   "metadata": {},
   "outputs": [
    {
     "data": {
      "text/plain": [
       "array([ 0.05943523, -0.04314158, -0.02425041,  0.02351749,  0.03543142,\n",
       "       -0.04040504,  0.04045698,  0.01012678,  0.07263764,  0.00767093,\n",
       "        0.01756792, -0.02787288,  0.02298858,  0.00055573,  0.04499599,\n",
       "       -0.00882702, -0.01008219, -0.00941781, -0.04884919,  0.05322327,\n",
       "       -0.044742  , -0.02811575,  0.02820921, -0.05431595, -0.04509468,\n",
       "       -0.02582193, -0.01692758, -0.01664509, -0.02867678, -0.03068061,\n",
       "       -0.01377297,  0.04367522, -0.08715362,  0.0188116 , -0.00971557,\n",
       "       -0.06596037, -0.01676772,  0.00263284, -0.04279811, -0.00262269,\n",
       "       -0.05783612,  0.02956448, -0.03712275, -0.01993093, -0.09330436,\n",
       "       -0.02202157, -0.00554809,  0.04187082, -0.05909657,  0.02596716,\n",
       "        0.03260135,  0.06007127,  0.0607147 ,  0.05235593,  0.06153915,\n",
       "        0.02661307,  0.01354994, -0.00665766, -0.01245556, -0.06967123,\n",
       "       -0.01089633,  0.05267742, -0.03557567, -0.01230204, -0.03608905,\n",
       "        0.00245772, -0.08149143, -0.04575545, -0.01892043, -0.01929268,\n",
       "       -0.02756025,  0.01834725, -0.03914846, -0.04443984, -0.03785913,\n",
       "       -0.01889122,  0.06414754,  0.03522106,  0.05649512, -0.0609795 ,\n",
       "       -0.05609767,  0.07081807, -0.04212769,  0.02400645, -0.01275638,\n",
       "       -0.01945339,  0.0157217 ,  0.00434686,  0.04101979,  0.02271248,\n",
       "       -0.00284574,  0.06082619, -0.04698608, -0.02872241, -0.00964401,\n",
       "        0.08568824, -0.041463  , -0.0404149 ,  0.04597856, -0.04991914,\n",
       "       -0.03911013, -0.04027692,  0.02566518, -0.06421379,  0.03086329,\n",
       "       -0.01990041, -0.00877033,  0.02695577, -0.01145164, -0.03115343,\n",
       "       -0.02180501,  0.00764873,  0.05318547,  0.02369701,  0.03601891,\n",
       "        0.05660878, -0.03048482, -0.06009688, -0.01557284,  0.05858558,\n",
       "       -0.00650965,  0.08582295, -0.00936133,  0.04548838,  0.03141175,\n",
       "        0.0147113 ,  0.05005814, -0.04486615,  0.03958715,  0.07179461,\n",
       "        0.03126618, -0.01227597,  0.04715363, -0.05013986,  0.01744813,\n",
       "       -0.0388082 , -0.05470426,  0.03428502, -0.00758998,  0.06941395,\n",
       "        0.06728194, -0.057195  , -0.02597675,  0.01320214,  0.04487392,\n",
       "        0.02517603,  0.01084665,  0.03487103, -0.06800195, -0.06974542,\n",
       "       -0.08958611,  0.02627689,  0.033709  , -0.01240205, -0.01921002,\n",
       "       -0.01058688, -0.10719319, -0.01627669, -0.0192837 , -0.00974627,\n",
       "       -0.05742794,  0.0453871 ,  0.0040136 , -0.02791929,  0.03776997,\n",
       "        0.0125783 ,  0.06063725,  0.04473934,  0.0111985 ,  0.00887267,\n",
       "        0.06278212,  0.05210028, -0.00027812,  0.03594549, -0.01569808,\n",
       "       -0.0230422 ,  0.05004938,  0.02511267,  0.00128106,  0.04204126,\n",
       "       -0.04911663,  0.02394526,  0.05246912, -0.04877951, -0.06712545,\n",
       "        0.02467511,  0.01703764,  0.0600802 , -0.02687105, -0.03869269,\n",
       "        0.03285972, -0.01769549, -0.01282222, -0.01592216, -0.06393838,\n",
       "        0.02629583,  0.0550367 ,  0.00598151, -0.0649528 ,  0.01195289],\n",
       "      dtype=float32)"
      ]
     },
     "execution_count": 41,
     "metadata": {},
     "output_type": "execute_result"
    }
   ],
   "source": [
    "from gensim.models.keyedvectors import Word2VecKeyedVectors\n",
    "\n",
    "word_vectors = Word2VecKeyedVectors.load_word2vec_format(word2vec_file_path, binary=False)\n",
    "vector = word_vectors['영화']\n",
    "vector"
   ]
  },
  {
   "cell_type": "code",
   "execution_count": 43,
   "id": "0b2904b8",
   "metadata": {
    "scrolled": true
   },
   "outputs": [
    {
     "data": {
      "text/plain": [
       "[('99', 0.7902316451072693),\n",
       " ('ㅉㅉ', 0.76581209897995),\n",
       " ('방식', 0.7618013024330139),\n",
       " ('띄워', 0.7585567831993103),\n",
       " ('고독', 0.7580589652061462),\n",
       " ('시리즈', 0.7560260891914368),\n",
       " ('명절', 0.7526372075080872),\n",
       " ('범', 0.7511965036392212),\n",
       " ('라마', 0.744321346282959),\n",
       " ('노아', 0.7442929744720459)]"
      ]
     },
     "execution_count": 43,
     "metadata": {},
     "output_type": "execute_result"
    }
   ],
   "source": [
    "word_vectors.similar_by_word(\"어벤져스\")"
   ]
  },
  {
   "cell_type": "markdown",
   "id": "224797e5",
   "metadata": {},
   "source": [
    "### 회고"
   ]
  },
  {
   "cell_type": "markdown",
   "id": "d38303df",
   "metadata": {},
   "source": [
    "* 우선 이번 노드는 자연어 처리 분야에 어려움을 느끼는 나에게 있어 난이도 최강이었다. cv가 쉽다는 건 아니지만 그냥 nlp는 너무 어렵다...그래서 과감하게 루브릭 평가 기준 세번째는 포기했다. \n",
    "* 일단 어려운 부분 첫번째, 특수문자 처리, 패딩 등 자연어 데이터를 다듬는 과정에 대한 이해는 되지만 코드를 작성해보라고 한다면 시도조차 못할 것 같다.\n",
    "* 두번째, cv나 회귀모델에서도 그래프 사용이 익숙하지 않은데 이를 nlp로 그래프를 그리려니 힘들다: 이는 그래프 관련 메서드가 아직 어려워서 그런 것이니 그래프 관련 코드 부분을 좀 더 공부해야할 것 같다."
   ]
  },
  {
   "cell_type": "markdown",
   "id": "4f188f69",
   "metadata": {},
   "source": [
    "* 참고\n",
    "    * https://ceuity.tistory.com/11\n",
    "    * https://velog.io/@shoulmon/SSACAIFFEL-20210114-%EB%84%A4%EC%9D%B4%EB%B2%84-%EC%98%81%ED%99%94-%EB%A6%AC%EB%B7%B0-%EA%B0%90%EC%84%B1-%EB%B6%84%EC%84%9D%ED%95%98%EA%B8%B0-jvwzuadq\n",
    "    * https://notebooks.githubusercontent.com/view/ipynb?browser=chrome&color_mode=auto&commit=7f4b5ad379d6c6a0abafc804958a8754559eb939&device=unknown&enc_url=68747470733a2f2f7261772e67697468756275736572636f6e74656e742e636f6d2f73746572656f2d77656c642f6578706c6f726174696f6e732f376634623561643337396436633661306162616663383034393538613837353435353965623933392f45345f50726f6a6563745f4e617665725f4d6f7669655f53656e74696d656e745f436c617373696669636174696f6e5f76322e6970796e62&logged_in=false&nwo=stereo-weld%2Fexplorations&path=E4_Project_Naver_Movie_Sentiment_Classification_v2.ipynb&platform=android&repository_id=328663132&repository_type=Repository&version=96"
   ]
  }
 ],
 "metadata": {
  "kernelspec": {
   "display_name": "Python 3 (ipykernel)",
   "language": "python",
   "name": "python3"
  },
  "language_info": {
   "codemirror_mode": {
    "name": "ipython",
    "version": 3
   },
   "file_extension": ".py",
   "mimetype": "text/x-python",
   "name": "python",
   "nbconvert_exporter": "python",
   "pygments_lexer": "ipython3",
   "version": "3.9.7"
  }
 },
 "nbformat": 4,
 "nbformat_minor": 5
}
